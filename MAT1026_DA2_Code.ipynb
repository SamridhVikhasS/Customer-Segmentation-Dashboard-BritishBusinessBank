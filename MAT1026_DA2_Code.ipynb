{
  "nbformat": 4,
  "nbformat_minor": 0,
  "metadata": {
    "colab": {
      "name": "MAT1026 DA2 - Code.ipynb",
      "provenance": [],
      "authorship_tag": "ABX9TyMpYyAMcpHjGa/QrZbw5jYP",
      "include_colab_link": true
    },
    "kernelspec": {
      "name": "python3",
      "display_name": "Python 3"
    },
    "language_info": {
      "name": "python"
    }
  },
  "cells": [
    {
      "cell_type": "markdown",
      "metadata": {
        "id": "view-in-github",
        "colab_type": "text"
      },
      "source": [
        "<a href=\"https://colab.research.google.com/github/SamridhVikhasS/Customer-Segmentation-Dashboard-BritishBusinessBank/blob/main/MAT1026_DA2_Code.ipynb\" target=\"_parent\"><img src=\"https://colab.research.google.com/assets/colab-badge.svg\" alt=\"Open In Colab\"/></a>"
      ]
    },
    {
      "cell_type": "markdown",
      "source": [
        "### **Graph Theory - Minimum Spanning Trees**"
      ],
      "metadata": {
        "id": "Vy43Ax0KEJDJ"
      }
    },
    {
      "cell_type": "markdown",
      "source": [
        "## **Kruskal's Algorithm**"
      ],
      "metadata": {
        "id": "VJ1bwJMiEXvj"
      }
    },
    {
      "cell_type": "code",
      "execution_count": 11,
      "metadata": {
        "id": "4-xmU4J_D8ug"
      },
      "outputs": [],
      "source": [
        "class Graph:\n",
        "    def __init__(self, vertices):\n",
        "        self.V = vertices\n",
        "        self.graph = []\n",
        "\n",
        "    def add_edge(self, u, v, w):\n",
        "        self.graph.append([u, v, w])\n",
        "    #Search Function\n",
        "    def find(self, parent, i):\n",
        "        if parent[i] == i:\n",
        "            return i\n",
        "        return self.find(parent, parent[i])\n",
        "    def apply_union(self, parent, rank, x, y):\n",
        "        xroot = self.find(parent, x)\n",
        "        yroot = self.find(parent, y)\n",
        "        if rank[xroot] < rank[yroot]:\n",
        "            parent[xroot] = yroot\n",
        "        elif rank[xroot] > rank[yroot]:\n",
        "            parent[yroot] = xroot\n",
        "        else:\n",
        "            parent[yroot] = xroot\n",
        "            rank[xroot] += 1\n",
        "    #  Applying Kruskal algorithm\n",
        "    def kruskal(self):\n",
        "        result = []\n",
        "        i, e = 0, 0\n",
        "        self.graph = sorted(self.graph, key=lambda item: item[2])\n",
        "        parent = []\n",
        "        rank = []\n",
        "        for node in range(self.V):\n",
        "            parent.append(node)\n",
        "            rank.append(0)\n",
        "        while e < self.V - 1:\n",
        "            u, v, w = self.graph[i]\n",
        "            i = i + 1\n",
        "            x = self.find(parent, u)\n",
        "            y = self.find(parent, v)\n",
        "            if x != y:\n",
        "                e = e + 1\n",
        "                result.append([u, v, w])\n",
        "                self.apply_union(parent, rank, x, y)\n",
        "        for u, v, weight in result:\n",
        "            print(\"%d - %d: %d\" % (u, v, weight))"
      ]
    },
    {
      "cell_type": "markdown",
      "source": [
        "## **Input & Output**"
      ],
      "metadata": {
        "id": "NF4EMngEFxtO"
      }
    },
    {
      "cell_type": "code",
      "source": [
        "g = Graph(5)\n",
        "g.add_edge(0,1,3)\n",
        "g.add_edge(0,2,4)\n",
        "g.add_edge(0,3,1)\n",
        "g.add_edge(1,4,2)\n",
        "g.add_edge(2,3,5)\n",
        "g.add_edge(2,4,11)"
      ],
      "metadata": {
        "id": "wID3Js7wF42m"
      },
      "execution_count": 12,
      "outputs": []
    },
    {
      "cell_type": "code",
      "source": [
        "g.kruskal()"
      ],
      "metadata": {
        "colab": {
          "base_uri": "https://localhost:8080/",
          "height": 0
        },
        "id": "uUlSF2eQHgsd",
        "outputId": "0f2ec0fb-7afa-4814-ad7f-b8d35564fc20"
      },
      "execution_count": 13,
      "outputs": [
        {
          "output_type": "stream",
          "name": "stdout",
          "text": [
            "0 - 3: 1\n",
            "1 - 4: 2\n",
            "0 - 1: 3\n",
            "0 - 2: 4\n"
          ]
        }
      ]
    },
    {
      "cell_type": "code",
      "source": [
        ""
      ],
      "metadata": {
        "id": "xxC2mUc5JbZl"
      },
      "execution_count": null,
      "outputs": []
    }
  ]
}